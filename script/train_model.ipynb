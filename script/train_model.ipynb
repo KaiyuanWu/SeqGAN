{
 "cells": [
  {
   "cell_type": "markdown",
   "metadata": {},
   "source": [
    "# 预处理数据"
   ]
  },
  {
   "cell_type": "markdown",
   "metadata": {},
   "source": [
    "## 1.1  Merge all excel data"
   ]
  },
  {
   "cell_type": "code",
   "execution_count": 1,
   "metadata": {},
   "outputs": [
    {
     "name": "stdout",
     "output_type": "stream",
     "text": [
      "question_2 那还有哪些比较实在的赔偿呢？\n",
      "conflict/duplicate row327_7: /workspace/match_questions/5.xls/472 --> /workspace/match_questions/5.xls/471\n",
      "question_2 关于医疗的赔偿项目是怎么安排？\n",
      "conflict/duplicate row414_10: /workspace/match_questions/11.xls/1220 --> /workspace/match_questions/12.xlsx/1220\n"
     ]
    }
   ],
   "source": [
    "import pandas as pd\n",
    "import os, sys\n",
    "import glob\n",
    "import pandas as pd\n",
    "import os, sys\n",
    "import glob\n",
    "\n",
    "DIR='/workspace/match_questions/'\n",
    "FILES = glob.glob(DIR+'*.xlsx') + glob.glob(DIR+'*.xls')\n",
    "all_df = pd.DataFrame(columns=['组数', '轮数', '上文', 'index', 'owner', 'question_1', 'question_2',\n",
    "       'question_3', 'question_4', 'question_5', 'question_6', 'question_7',\n",
    "       'question_8', 'question_9', 'question_10'])\n",
    "keys = {}\n",
    "index = 0\n",
    "for file in FILES:\n",
    "    if file.find(\"all\")  != -1:\n",
    "        continue\n",
    "    if file.find('12.xlsx') != -1:\n",
    "        df = pd.read_excel(file, sheet_name=\"Sheet1\")\n",
    "    elif file.find('12.xls') == -1:\n",
    "        df = pd.read_excel(file)\n",
    "    columns_names = list(set(df.columns) - set(['组数', '轮数', '上文', 'index', 'owner']))\n",
    "    for idx in range(df.shape[0]):\n",
    "        key = \"{}_{}\".format(df.loc[idx, '组数'], df.loc[idx, '轮数'])\n",
    "        if pd.isnull(df.loc[idx][columns_names[0]]):\n",
    "            continue\n",
    "        if key in keys:\n",
    "            print(columns_names[0], df.loc[idx][columns_names[0]])\n",
    "            print(\"conflict/duplicate row{}: {}/{} --> {}/{}\".format(key, file, idx, keys[key][0], keys[key][1]))\n",
    "        else:\n",
    "            keys[key] = (file, idx)\n",
    "        \n",
    "        all_df.loc[index,('组数', '轮数', '上文', 'index', 'owner')] = df.loc[idx, ['组数', '轮数', '上文', 'index', 'owner']]\n",
    "        for jdx, name in enumerate(columns_names):\n",
    "            if jdx < 10 and not pd.isnull(df.loc[idx][name]):\n",
    "                all_df.loc[index]['question_%d'%(jdx+1)] = df.loc[idx][name]   \n",
    "        index += 1\n",
    "all_df.to_excel(DIR+\"/all.xlsx\")"
   ]
  },
  {
   "cell_type": "markdown",
   "metadata": {},
   "source": [
    "## 1.2 Build vocab and convert text to id"
   ]
  },
  {
   "cell_type": "code",
   "execution_count": 4,
   "metadata": {},
   "outputs": [
    {
     "data": {
      "text/html": [
       "<div>\n",
       "<style scoped>\n",
       "    .dataframe tbody tr th:only-of-type {\n",
       "        vertical-align: middle;\n",
       "    }\n",
       "\n",
       "    .dataframe tbody tr th {\n",
       "        vertical-align: top;\n",
       "    }\n",
       "\n",
       "    .dataframe thead th {\n",
       "        text-align: right;\n",
       "    }\n",
       "</style>\n",
       "<table border=\"1\" class=\"dataframe\">\n",
       "  <thead>\n",
       "    <tr style=\"text-align: right;\">\n",
       "      <th></th>\n",
       "      <th>组数</th>\n",
       "      <th>轮数</th>\n",
       "      <th>上文</th>\n",
       "      <th>index</th>\n",
       "      <th>owner</th>\n",
       "      <th>question_1</th>\n",
       "      <th>question_2</th>\n",
       "      <th>question_3</th>\n",
       "      <th>question_4</th>\n",
       "      <th>question_5</th>\n",
       "      <th>question_6</th>\n",
       "      <th>question_7</th>\n",
       "      <th>question_8</th>\n",
       "      <th>question_9</th>\n",
       "      <th>question_10</th>\n",
       "    </tr>\n",
       "  </thead>\n",
       "  <tbody>\n",
       "    <tr>\n",
       "      <th>0</th>\n",
       "      <td>309</td>\n",
       "      <td>7</td>\n",
       "      <td>那未成年人的保金是不是也要高一些？</td>\n",
       "      <td>4</td>\n",
       "      <td>黄文</td>\n",
       "      <td>孩子的保险费是否更高？</td>\n",
       "      <td>未成年要交更高的保金吗</td>\n",
       "      <td>未成年人的保险金是否更高？</td>\n",
       "      <td>保金对未成年人来说是否更高</td>\n",
       "      <td>那未成年的保金是不是就更高了？</td>\n",
       "      <td>那未成年人要交更高的保费吗</td>\n",
       "      <td>未成年人的保险金更高吗？</td>\n",
       "      <td>未成年人的保险费是否更高？</td>\n",
       "      <td>未成年人是不是要缴纳更高的保金</td>\n",
       "      <td>那未成年人的保金要高一些吗？</td>\n",
       "    </tr>\n",
       "    <tr>\n",
       "      <th>1</th>\n",
       "      <td>309</td>\n",
       "      <td>10</td>\n",
       "      <td>一般来说，一年一次吧。</td>\n",
       "      <td>4</td>\n",
       "      <td>黄文</td>\n",
       "      <td>通常每年一次。</td>\n",
       "      <td>总体而言，每年一次。</td>\n",
       "      <td>一般来说，每年一次。</td>\n",
       "      <td>一般来说，每年一次</td>\n",
       "      <td>一般每年一次。</td>\n",
       "      <td>一年一次吧。</td>\n",
       "      <td>一般来说，每年一次吧。</td>\n",
       "      <td>一般来说，一年一次。</td>\n",
       "      <td>通常来说，一年一次。</td>\n",
       "      <td>每年一次。</td>\n",
       "    </tr>\n",
       "    <tr>\n",
       "      <th>2</th>\n",
       "      <td>310</td>\n",
       "      <td>2</td>\n",
       "      <td>有哪几种类型来选择呢？</td>\n",
       "      <td>4</td>\n",
       "      <td>黄文</td>\n",
       "      <td>哪些类型可供选择？</td>\n",
       "      <td>什么样的类型可以选择？</td>\n",
       "      <td>有哪些类型可供选择？</td>\n",
       "      <td>我可以选择哪些类型？</td>\n",
       "      <td>什么类型可供选择？</td>\n",
       "      <td>什么是不同类型的选择？</td>\n",
       "      <td>你可以选择什么类型？</td>\n",
       "      <td>有哪些类型选择？</td>\n",
       "      <td>那里有什么类型？</td>\n",
       "      <td>我可以选择哪些类型？</td>\n",
       "    </tr>\n",
       "    <tr>\n",
       "      <th>3</th>\n",
       "      <td>310</td>\n",
       "      <td>4</td>\n",
       "      <td>如果因遗失信用卡而引致被盗损失我能获得多少赔付呢？</td>\n",
       "      <td>4</td>\n",
       "      <td>黄文</td>\n",
       "      <td>如果我丢了信用卡，卡被盗用了，我可以拿到多少赔偿？</td>\n",
       "      <td>如果我丢失了信用卡而导致信用卡盗用，会有多少赔付呢？</td>\n",
       "      <td>如果我因信用卡丢失被盗，可以得到多少赔付？</td>\n",
       "      <td>由于信用卡丢失而导致被盗，我的损失可以得到赔偿吗</td>\n",
       "      <td>如果我的卡被盗是因为信用卡丢失，我能得到多少赔付？</td>\n",
       "      <td>如果我的可被盗，是因为信用卡遗失，我可以获得赔付吗</td>\n",
       "      <td>由于信用卡丢失引发的损失，我可以拿到赔偿吗？</td>\n",
       "      <td>如果因遗失信用卡而引致被盗损失，我能获得多少赔付呢？</td>\n",
       "      <td>如果因为信用卡丢失被窃，造成的损失可以拿到多少赔偿呢</td>\n",
       "      <td>要是我信用卡丢了，然后被盗用，这些损失我能得到多少赔偿呢</td>\n",
       "    </tr>\n",
       "    <tr>\n",
       "      <th>4</th>\n",
       "      <td>310</td>\n",
       "      <td>5</td>\n",
       "      <td>那有什么要求吗？</td>\n",
       "      <td>4</td>\n",
       "      <td>黄文</td>\n",
       "      <td>有什么需求？</td>\n",
       "      <td>要求是什么呢</td>\n",
       "      <td>有什么要求？</td>\n",
       "      <td>那有哪些要求需要满足呢？</td>\n",
       "      <td>要求有哪些</td>\n",
       "      <td>我需要满足什么要求吗</td>\n",
       "      <td>有什么条件？</td>\n",
       "      <td>有什么条件吗</td>\n",
       "      <td>那有什么样的条件？</td>\n",
       "      <td>我需要满足哪些条件呢</td>\n",
       "    </tr>\n",
       "  </tbody>\n",
       "</table>\n",
       "</div>"
      ],
      "text/plain": [
       "    组数  轮数                         上文  index owner                 question_1  \\\n",
       "0  309   7          那未成年人的保金是不是也要高一些？      4    黄文                孩子的保险费是否更高？   \n",
       "1  309  10                一般来说，一年一次吧。      4    黄文                    通常每年一次。   \n",
       "2  310   2                有哪几种类型来选择呢？      4    黄文                  哪些类型可供选择？   \n",
       "3  310   4  如果因遗失信用卡而引致被盗损失我能获得多少赔付呢？      4    黄文  如果我丢了信用卡，卡被盗用了，我可以拿到多少赔偿？   \n",
       "4  310   5                   那有什么要求吗？      4    黄文                     有什么需求？   \n",
       "\n",
       "                   question_2             question_3  \\\n",
       "0                 未成年要交更高的保金吗          未成年人的保险金是否更高？   \n",
       "1                  总体而言，每年一次。             一般来说，每年一次。   \n",
       "2                 什么样的类型可以选择？             有哪些类型可供选择？   \n",
       "3  如果我丢失了信用卡而导致信用卡盗用，会有多少赔付呢？  如果我因信用卡丢失被盗，可以得到多少赔付？   \n",
       "4                      要求是什么呢                 有什么要求？   \n",
       "\n",
       "                 question_4                 question_5  \\\n",
       "0             保金对未成年人来说是否更高            那未成年的保金是不是就更高了？   \n",
       "1                 一般来说，每年一次                    一般每年一次。   \n",
       "2                我可以选择哪些类型？                  什么类型可供选择？   \n",
       "3  由于信用卡丢失而导致被盗，我的损失可以得到赔偿吗  如果我的卡被盗是因为信用卡丢失，我能得到多少赔付？   \n",
       "4              那有哪些要求需要满足呢？                      要求有哪些   \n",
       "\n",
       "                  question_6              question_7  \\\n",
       "0              那未成年人要交更高的保费吗            未成年人的保险金更高吗？   \n",
       "1                     一年一次吧。             一般来说，每年一次吧。   \n",
       "2                什么是不同类型的选择？              你可以选择什么类型？   \n",
       "3  如果我的可被盗，是因为信用卡遗失，我可以获得赔付吗  由于信用卡丢失引发的损失，我可以拿到赔偿吗？   \n",
       "4                 我需要满足什么要求吗                  有什么条件？   \n",
       "\n",
       "                   question_8                  question_9  \\\n",
       "0               未成年人的保险费是否更高？             未成年人是不是要缴纳更高的保金   \n",
       "1                  一般来说，一年一次。                  通常来说，一年一次。   \n",
       "2                    有哪些类型选择？                    那里有什么类型？   \n",
       "3  如果因遗失信用卡而引致被盗损失，我能获得多少赔付呢？  如果因为信用卡丢失被窃，造成的损失可以拿到多少赔偿呢   \n",
       "4                      有什么条件吗                   那有什么样的条件？   \n",
       "\n",
       "                    question_10  \n",
       "0                那未成年人的保金要高一些吗？  \n",
       "1                         每年一次。  \n",
       "2                    我可以选择哪些类型？  \n",
       "3  要是我信用卡丢了，然后被盗用，这些损失我能得到多少赔偿呢  \n",
       "4                    我需要满足哪些条件呢  "
      ]
     },
     "execution_count": 4,
     "metadata": {},
     "output_type": "execute_result"
    }
   ],
   "source": [
    "all_df = pd.read_excel(DIR+\"/all.xlsx\", sheet_name=\"Sheet1\")\n",
    "vocab_output_file = 'work/vocab.txt'\n",
    "output_file = 'work/doc_idx.txt'\n",
    "all_df.head(n=5)"
   ]
  },
  {
   "cell_type": "code",
   "execution_count": 5,
   "metadata": {},
   "outputs": [
    {
     "data": {
      "text/plain": [
       "(1545, 15)"
      ]
     },
     "execution_count": 5,
     "metadata": {},
     "output_type": "execute_result"
    }
   ],
   "source": [
    "all_df.shape"
   ]
  },
  {
   "cell_type": "code",
   "execution_count": 19,
   "metadata": {
    "collapsed": true,
    "scrolled": false
   },
   "outputs": [],
   "source": [
    "from dingding.tools import nlp_utils\n",
    "from hanziconv import HanziConv\n",
    "def clean_sentence(sentence):\n",
    "    sentence = nlp_utils.full2half(sentence)\n",
    "    sentence = HanziConv.toSimplified(sentence)\n",
    "    return sentence\n",
    "\n",
    "all_sentences = []\n",
    "for idx in range(all_df.shape[0]):\n",
    "    sentences = []\n",
    "    s = all_df.loc[idx, u'上文']\n",
    "    s1 = clean_sentence(s)\n",
    "    sentences.append(s1)\n",
    "    for jdx in range(1,11):\n",
    "        s = all_df.loc[idx, 'question_%d'%(jdx)]\n",
    "        if (not pd.isna(s)) and (not pd.isnull(s)):\n",
    "            s1 = clean_sentence(s)\n",
    "            sentences.append(s1)\n",
    "    all_sentences.append(sentences)"
   ]
  },
  {
   "cell_type": "code",
   "execution_count": 20,
   "metadata": {},
   "outputs": [
    {
     "data": {
      "text/plain": [
       "1545"
      ]
     },
     "execution_count": 20,
     "metadata": {},
     "output_type": "execute_result"
    }
   ],
   "source": [
    "len(all_sentences)"
   ]
  },
  {
   "cell_type": "code",
   "execution_count": 34,
   "metadata": {
    "collapsed": true
   },
   "outputs": [],
   "source": [
    "# build vocab\n",
    "import gensim\n",
    "import jieba\n",
    "all_seg_sentences1 = []\n",
    "all_seg_sentences2 = []\n",
    "for idx in range(len(all_sentences)):\n",
    "    seg_sentences = []\n",
    "    for s in all_sentences[idx]:\n",
    "        seg = jieba.tokenize(s)\n",
    "        seg_sentences.append([w[0] for w in seg])\n",
    "    all_seg_sentences1.append(seg_sentences)\n",
    "    all_seg_sentences2 += seg_sentences"
   ]
  },
  {
   "cell_type": "code",
   "execution_count": 53,
   "metadata": {
    "collapsed": true,
    "scrolled": false
   },
   "outputs": [],
   "source": [
    "from gensim.corpora import Dictionary as corpora_Dictionary\n",
    "dct = corpora_Dictionary(all_seg_sentences2)\n",
    "with open(vocab_output_file, 'w') as f:\n",
    "    for idx in range(len(dct)):\n",
    "        f.write(\"{}\\\\{}\\n\".format(idx, dct[idx]))\n",
    "\n",
    "all_seg_idx = []\n",
    "\n",
    "for idx in range(len(all_seg_sentences1)):\n",
    "    idx_sentences = []\n",
    "    for s in all_seg_sentences1[idx]:\n",
    "        sentence = dct.doc2idx(s)\n",
    "        idx_sentences.append(sentence)\n",
    "    all_seg_idx.append(idx_sentences)\n",
    "\n",
    "with open(output_file, 'w') as f:\n",
    "    for idx in range(len(all_seg_idx)):\n",
    "        for s in all_seg_idx[idx]:\n",
    "            f.write(\"{}\\n\".format(\" \".join([str(x) for x in s])))"
   ]
  },
  {
   "cell_type": "code",
   "execution_count": 60,
   "metadata": {},
   "outputs": [
    {
     "data": {
      "text/plain": [
       "38"
      ]
     },
     "execution_count": 60,
     "metadata": {},
     "output_type": "execute_result"
    }
   ],
   "source": [
    "max([max([len(j) for j in all_seg_idx[i]]) for i in range(len(all_seg_idx))])"
   ]
  },
  {
   "cell_type": "code",
   "execution_count": 59,
   "metadata": {},
   "outputs": [
    {
     "data": {
      "text/plain": [
       "[404, 774, 141, 124, 309, 6, 979, 26]"
      ]
     },
     "execution_count": 59,
     "metadata": {},
     "output_type": "execute_result"
    }
   ],
   "source": [
    "max([j for j in all_seg_idx[0]])"
   ]
  },
  {
   "cell_type": "markdown",
   "metadata": {},
   "source": [
    "## 1.3 split data into train/test \n",
    "###  current method:  similar sentences [s0, s1, ..., s10] --> (s0, s1), (s1, s2), ..., (s10, s0)"
   ]
  },
  {
   "cell_type": "code",
   "execution_count": 55,
   "metadata": {
    "collapsed": true
   },
   "outputs": [],
   "source": [
    "train_test_split_ratio = 0.8\n",
    "train_file = \n",
    "import random\n",
    "random.shuffle(all_seg_idx)\n"
   ]
  }
 ],
 "metadata": {
  "kernelspec": {
   "display_name": "Python 2",
   "language": "python",
   "name": "python2"
  },
  "language_info": {
   "codemirror_mode": {
    "name": "ipython",
    "version": 2
   },
   "file_extension": ".py",
   "mimetype": "text/x-python",
   "name": "python",
   "nbconvert_exporter": "python",
   "pygments_lexer": "ipython2",
   "version": "2.7.13"
  }
 },
 "nbformat": 4,
 "nbformat_minor": 2
}
